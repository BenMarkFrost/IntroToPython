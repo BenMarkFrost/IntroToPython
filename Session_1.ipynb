{
  "cells": [
    {
      "cell_type": "markdown",
      "metadata": {
        "id": "p5tBJp1mixz5"
      },
      "source": [
        "# ***Introduction to Python - The Garden Halls 2022***\n",
        "\n",
        "## By Benjamin Frost"
      ]
    },
    {
      "cell_type": "markdown",
      "metadata": {
        "id": "gDHVZS6AD2Tf"
      },
      "source": [
        "Today we will learn the skills to make a number guessing game in Python.\n",
        "\n",
        "\n",
        "* The program chooses a random number between 0 and 100.\n",
        "* The program asks the player to guess the number.\n",
        "* The program tells the player if the guess is too high or too low.\n",
        "* The program repeats until the player guesses the number.\n",
        "\n",
        "\n",
        "EG:\n",
        "\n",
        "**Computer chooses 54**\n",
        "* The player guesses 50\n",
        "* The player is too low\n",
        "* The player guesses 75\n",
        "* The player is too high\n",
        "* The player guesses 60\n",
        "* Player is too high\n",
        "* Player guesses 55\n",
        "* Player is too high\n",
        "* Player guesses 54\n",
        "* Player is correct\n",
        "\n",
        "**Computer prints that the user finished in 5 guesses**"
      ]
    },
    {
      "cell_type": "markdown",
      "metadata": {
        "id": "rQad0Bz8ix0H"
      },
      "source": [
        "---\n",
        "## ***Print Statements***"
      ]
    },
    {
      "cell_type": "markdown",
      "metadata": {
        "id": "J5rtGQGEix0A"
      },
      "source": [
        "Make sure to run all the pre-written code cells to see what they do.\n",
        "\n",
        "*  Click inside the cell below to highlight it and then click the 'Run' button to the left of the cell."
      ]
    },
    {
      "cell_type": "code",
      "execution_count": null,
      "metadata": {
        "id": "xrea7FHOix0B"
      },
      "outputs": [],
      "source": [
        "print(\"Garden Halls\")"
      ]
    },
    {
      "cell_type": "markdown",
      "metadata": {
        "id": "DNsxWqG7ix0H"
      },
      "source": [
        "* In this tutorial, tasks to be completed are marked with bullet point formatting, like this line.\n",
        "* Replace the placeholder text and print your name below, surrounded by \"."
      ]
    },
    {
      "cell_type": "code",
      "execution_count": null,
      "metadata": {
        "id": "kSKwTzzuix0H"
      },
      "outputs": [],
      "source": [
        "print(**Put your name here**)"
      ]
    },
    {
      "cell_type": "markdown",
      "metadata": {
        "id": "KOshA-EQD2Ti"
      },
      "source": [
        "---\n",
        "## Variables:"
      ]
    },
    {
      "cell_type": "markdown",
      "metadata": {
        "id": "AyhdG9s2ix0H"
      },
      "source": [
        "We can assign values to variables, change them, and print them using print(*variable goes here*)"
      ]
    },
    {
      "cell_type": "markdown",
      "metadata": {
        "id": "TSLTRBqED2Tk"
      },
      "source": [
        "String: \"Hello\", \"a\", \"This is Python\"\n",
        "\n",
        "Integer: 1, 5, 777\n",
        "\n",
        "Float: 1.333, 5.0, -1.0\n",
        "\n",
        "Boolean: True, False"
      ]
    },
    {
      "cell_type": "code",
      "execution_count": null,
      "metadata": {
        "id": "QoHUnYb8D2Tk"
      },
      "outputs": [],
      "source": [
        "# For example:\n",
        "# x is an integer\n",
        "\n",
        "x = 5\n",
        "\n",
        "print(x)"
      ]
    },
    {
      "cell_type": "markdown",
      "metadata": {
        "id": "516TJDFwD2Tk"
      },
      "source": [
        "* Create a new variable below called y which is of type Float."
      ]
    },
    {
      "cell_type": "code",
      "execution_count": null,
      "metadata": {
        "id": "7Ioio3b1D2Tl"
      },
      "outputs": [],
      "source": []
    },
    {
      "cell_type": "markdown",
      "metadata": {
        "id": "URuoYWwXix0I"
      },
      "source": [
        "*  Use the print() function in the cell below to print this new variable"
      ]
    },
    {
      "cell_type": "code",
      "execution_count": null,
      "metadata": {
        "id": "K3JKku3Uix0I"
      },
      "outputs": [],
      "source": []
    },
    {
      "cell_type": "markdown",
      "metadata": {
        "id": "I3NaxdzND2Tl"
      },
      "source": [
        "We can perform operations on variables using conventional maths symbols."
      ]
    },
    {
      "cell_type": "markdown",
      "metadata": {
        "id": "WGr6OEX3D2Tm"
      },
      "source": [
        "Cheat Sheet:\n",
        "\n",
        "'+' = add\n",
        "\n",
        "'-' = subtract\n",
        "\n",
        "'*' = multiply\n",
        "\n",
        "'/' = divide"
      ]
    },
    {
      "cell_type": "code",
      "execution_count": null,
      "metadata": {
        "id": "R59VjNndD2Tm"
      },
      "outputs": [],
      "source": [
        "# For example:\n",
        "\n",
        "x = 9\n",
        "\n",
        "y = 10\n",
        "\n",
        "z = (x * y) - x\n",
        "\n",
        "print(z)"
      ]
    },
    {
      "cell_type": "markdown",
      "metadata": {
        "id": "mVWAnct6D2Tm"
      },
      "source": [
        "* Divide 1005 by 4 and print the result\n",
        "* What type of variable is the result?"
      ]
    },
    {
      "cell_type": "code",
      "execution_count": null,
      "metadata": {
        "id": "SaCZMf-lD2Tm"
      },
      "outputs": [],
      "source": []
    },
    {
      "cell_type": "markdown",
      "metadata": {
        "id": "RDs1Bh9nD2Tn"
      },
      "source": [
        "* Given the variables defined below (and in the same cell), create another variable which:\n",
        "* 1) Multiplies them together\n",
        "* 2) Divides the result by 2\n",
        "* Print the result"
      ]
    },
    {
      "cell_type": "code",
      "execution_count": null,
      "metadata": {
        "id": "oqCzX4OAD2Tn"
      },
      "outputs": [],
      "source": [
        "x = 3\n",
        "y = 6\n",
        "z = 7\n"
      ]
    },
    {
      "cell_type": "markdown",
      "metadata": {
        "id": "pw-cfN3Mix0M"
      },
      "source": [
        "---\n",
        "### IF"
      ]
    },
    {
      "cell_type": "markdown",
      "metadata": {
        "id": "4XFkGoEgix0N"
      },
      "source": [
        "IF statements are used to decide which code to execute. If a comparison equates to true, one block of code may be run. Otherwise, another block of code may be run."
      ]
    },
    {
      "cell_type": "markdown",
      "metadata": {
        "id": "D0UFSp8yqJyd"
      },
      "source": [
        "**Cheat Sheet:**\n",
        "\n",
        "\n",
        "'>' Greater than\n",
        "\n",
        "'<' Less than\n",
        "\n",
        "'==' Equal to\n",
        "\n",
        "'!=' Not equal to\n",
        "\n"
      ]
    },
    {
      "cell_type": "code",
      "execution_count": null,
      "metadata": {
        "id": "eHKbJBaWE-gP"
      },
      "outputs": [],
      "source": [
        "# String Comparisons\n",
        "\n",
        "if \"hello\" == \"HELLO\":\n",
        "  print(\"lowercase hello\")"
      ]
    },
    {
      "cell_type": "code",
      "execution_count": null,
      "metadata": {
        "colab": {
          "base_uri": "https://localhost:8080/"
        },
        "id": "RGi4lBVFix0N",
        "outputId": "28e12cc4-18a9-4f0b-a655-3d9780b72573"
      },
      "outputs": [],
      "source": [
        "# Number Comparisons\n",
        "\n",
        "if 3 > 0:\n",
        "    print(\"3 is greater than 0\")\n",
        "else:\n",
        "    print(\"3 is not greater than 0\")"
      ]
    },
    {
      "cell_type": "markdown",
      "metadata": {
        "id": "9jiVJCetpT5H"
      },
      "source": [
        "*  Write an IF statement that outputs the result of 9 * 9 if \"i love python\" is equal to \"I love Python\".\n",
        "*  If the strings are not equal, output the result of 8 * 8."
      ]
    },
    {
      "cell_type": "code",
      "execution_count": null,
      "metadata": {
        "id": "l5e0nh95pTcL"
      },
      "outputs": [],
      "source": []
    },
    {
      "cell_type": "markdown",
      "metadata": {
        "id": "bQ83dYaTix0R"
      },
      "source": [
        "---\n",
        "\n",
        "### While"
      ]
    },
    {
      "cell_type": "markdown",
      "metadata": {
        "id": "-6oxonDlix0R"
      },
      "source": [
        "A 'While' loop will run the contained code until a certain condition is met.\n",
        "\n",
        "The IF operator runs code *once* if a condition is met.\n",
        "\n",
        "While loops will *loop* over that code while the condition is met."
      ]
    },
    {
      "cell_type": "code",
      "execution_count": null,
      "metadata": {
        "id": "ydY29kOLix0T"
      },
      "outputs": [],
      "source": [
        "x = 0\n",
        "\n",
        "while x < 4:\n",
        "    print(x)\n",
        "    x = x + 1"
      ]
    },
    {
      "cell_type": "markdown",
      "metadata": {
        "id": "7dPhUsZfOid2"
      },
      "source": [
        "Can you verbally explain what each part of the above code does?"
      ]
    },
    {
      "cell_type": "markdown",
      "metadata": {
        "id": "JG2nFrN_wRv9"
      },
      "source": [
        "*  Create a variable called 'x' and set its value to 0.\n",
        "\n",
        "*  Write a 'While' loop that loops while this counter is < 3. Increment the counter each loop.\n",
        "\n",
        "*  Print the string \"Hello world\" in each loop. Use the example above to help.\n",
        "\n",
        "EG:\n",
        "\n",
        "\"Hello world\"\n",
        "\n",
        "\"Hello world\"\n",
        "\n",
        "\"Hello world\""
      ]
    },
    {
      "cell_type": "code",
      "execution_count": null,
      "metadata": {
        "id": "1coAOoQIPFz1"
      },
      "outputs": [],
      "source": []
    },
    {
      "cell_type": "markdown",
      "metadata": {
        "id": "3kZc2X2wPDjF"
      },
      "source": [
        "---\n",
        "### Random"
      ]
    },
    {
      "cell_type": "markdown",
      "metadata": {
        "id": "9NxQgY5HPGpL"
      },
      "source": [
        "The 'random' library can be used to generate random integers."
      ]
    },
    {
      "cell_type": "code",
      "execution_count": null,
      "metadata": {
        "colab": {
          "base_uri": "https://localhost:8080/"
        },
        "id": "4OIWW2XLPOBR",
        "outputId": "a12c1b30-bfd6-443f-ff87-3a2a03f0e8fb"
      },
      "outputs": [],
      "source": [
        "import random\n",
        "\n",
        "print(random.randint(0,5))"
      ]
    },
    {
      "cell_type": "markdown",
      "metadata": {
        "id": "Q-GpcAWTPUQU"
      },
      "source": [
        "Use it like the above: random.randint(** Lowest Number ** , ** Highest Number**)\n",
        "\n",
        "It's as easy as that. A new random number in the range given is generated each time that line is run."
      ]
    },
    {
      "cell_type": "markdown",
      "metadata": {
        "id": "AFdGofSZupFF"
      },
      "source": [
        "*  Create a variable called 'x' and set its value to 0\n",
        "\n",
        "*  Write a 'While' loop that loops while this counter is < 6.\n",
        "\n",
        "*  Inside the loop, generate a random integer between 1 and 10.\n",
        "\n",
        "*  If the generated number is less than 5, print it.\n"
      ]
    },
    {
      "cell_type": "code",
      "execution_count": null,
      "metadata": {
        "id": "bYgX5l6BupgG"
      },
      "outputs": [],
      "source": []
    },
    {
      "cell_type": "markdown",
      "metadata": {
        "id": "zSw6zzF5ix0K"
      },
      "source": [
        "---\n",
        "\n",
        "### Functions"
      ]
    },
    {
      "cell_type": "markdown",
      "metadata": {
        "id": "AZQtMi2wix0K"
      },
      "source": [
        "Functions are used in programming to be able to separate out, organise, and reuse code. They are defined as *myFunctionName*()."
      ]
    },
    {
      "cell_type": "markdown",
      "metadata": {
        "id": "Waygilwsix0K"
      },
      "source": [
        "The function myFunction takes some of the code written above, and makes it reusable."
      ]
    },
    {
      "cell_type": "code",
      "execution_count": null,
      "metadata": {
        "id": "9v0qFIm7ix0L"
      },
      "outputs": [],
      "source": [
        "def myFunction():\n",
        "    \n",
        "    x = random.randint(1,5)\n",
        "\n",
        "    y = 0\n",
        "\n",
        "    while y != x:\n",
        "\n",
        "      print(\"Not equal\")\n",
        "\n",
        "      y = random.randint(1,5)\n",
        "\n",
        "    print(\"Equal\")"
      ]
    },
    {
      "cell_type": "markdown",
      "metadata": {
        "id": "-6wCMdWfRBQG"
      },
      "source": [
        "* Add a print() statement to the above code so that it prints y each time it is generated."
      ]
    },
    {
      "cell_type": "markdown",
      "metadata": {
        "id": "jRgT1oudix0L"
      },
      "source": [
        "Run the above cell to see what happens.\n",
        "\n",
        "The answer should be: nothing. We've told Python what the function is, but since it hasn't been called yet the code inside it hasn't been executed.\n",
        "\n",
        "We can now call the function like below:"
      ]
    },
    {
      "cell_type": "code",
      "execution_count": null,
      "metadata": {
        "colab": {
          "base_uri": "https://localhost:8080/"
        },
        "id": "fc-ulfiOD2Tt",
        "outputId": "0f6d2990-6fd6-469a-a26d-1c1f1ba593d5"
      },
      "outputs": [],
      "source": [
        "myFunction()"
      ]
    },
    {
      "cell_type": "markdown",
      "metadata": {
        "id": "CEcP8GgjRlcI"
      },
      "source": [
        "* Write a new function called print10() that prints numbers from 1 to 10.\n",
        "* Use a counter 'x' and a while loop to achieve this."
      ]
    },
    {
      "cell_type": "code",
      "execution_count": null,
      "metadata": {
        "id": "XrE8SzDmRluj"
      },
      "outputs": [],
      "source": []
    },
    {
      "cell_type": "markdown",
      "metadata": {
        "id": "y7XEKtsxRQgO"
      },
      "source": [
        "---\n",
        "\n",
        "### Inputs"
      ]
    },
    {
      "cell_type": "markdown",
      "metadata": {
        "id": "Tw7agXw8RXpT"
      },
      "source": [
        "We can get user inputs by using the input() function."
      ]
    },
    {
      "cell_type": "code",
      "execution_count": null,
      "metadata": {
        "colab": {
          "base_uri": "https://localhost:8080/"
        },
        "id": "jb2EssHMD2Tu",
        "outputId": "a15395b7-177f-4c85-ebf2-15003796b1ff"
      },
      "outputs": [],
      "source": [
        "# By default, input() gives us a variable of type String, but we want an Integer.\n",
        "# So we can convert it using the int() function\n",
        "\n",
        "x = int(input(\"Enter your age: \"))"
      ]
    },
    {
      "cell_type": "markdown",
      "metadata": {
        "id": "IQWYVbH2soXz"
      },
      "source": [
        "* Create a new function called 'printInput' that asks the user for an input once and prints it."
      ]
    },
    {
      "cell_type": "code",
      "execution_count": null,
      "metadata": {
        "id": "5ql9Q0o_s375"
      },
      "outputs": [],
      "source": []
    },
    {
      "cell_type": "markdown",
      "metadata": {
        "id": "zGDaQB6eD2To"
      },
      "source": [
        "---\n",
        "\n",
        "### Making the game"
      ]
    },
    {
      "cell_type": "markdown",
      "metadata": {
        "id": "3KClFJ_XD2To"
      },
      "source": [
        "Let's start making the game. This will require using all of the skills learned previously in this workshop.\n",
        "\n",
        "\n",
        "We need to start by creating a function to contain the code, called numberGuesser().\n",
        "\n",
        "Whenever we call numberGuesser(), the code within it will be executed."
      ]
    },
    {
      "cell_type": "markdown",
      "metadata": {
        "id": "ZJickk9dSVuN"
      },
      "source": [
        "* Write a new function called numberGuesser() below."
      ]
    },
    {
      "cell_type": "code",
      "execution_count": null,
      "metadata": {
        "id": "1-_rKZKHD2To"
      },
      "outputs": [],
      "source": []
    },
    {
      "cell_type": "markdown",
      "metadata": {
        "id": "qk2c8h8rSyCp"
      },
      "source": [
        "For the game to be complete, it needs the below components. See how many of them you can add to the function and let us know if you're stuck.\n",
        "\n",
        "*Setup*\n",
        "\n",
        "1.   A random number between 0 and 100.\n",
        "2.   A counter initialised to 0.\n",
        "3.   An input stored in a variable 'guess'.\n",
        "4.   A while loop that runs while the guess is not equal to the random number.\n",
        "\n",
        "*Inside The Loop*\n",
        "\n",
        "1.   If the guess is above the random number, print \"Too high\", similar for below.\n",
        "2.   Increment the number of guesses taken.\n",
        "3.   Ask for another input and store it in 'guess'.\n",
        "\n",
        "*Finally*\n",
        "\n",
        "1.   Once the number has been guessed, print the random number and the number of guesses taken."
      ]
    }
  ],
  "metadata": {
    "colab": {
      "collapsed_sections": [],
      "name": "Session_1.ipynb",
      "provenance": []
    },
    "interpreter": {
      "hash": "31f2aee4e71d21fbe5cf8b01ff0e069b9275f58929596ceb00d14d90e3e16cd6"
    },
    "kernelspec": {
      "display_name": "Python 3.8.9 64-bit",
      "name": "python3"
    },
    "language_info": {
      "codemirror_mode": {
        "name": "ipython",
        "version": 3
      },
      "file_extension": ".py",
      "mimetype": "text/x-python",
      "name": "python",
      "nbconvert_exporter": "python",
      "pygments_lexer": "ipython3",
      "version": "3.8.5"
    }
  },
  "nbformat": 4,
  "nbformat_minor": 0
}
