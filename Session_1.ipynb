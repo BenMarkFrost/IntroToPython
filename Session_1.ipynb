{
  "cells": [
    {
      "cell_type": "markdown",
      "metadata": {
        "id": "p5tBJp1mixz5"
      },
      "source": [
        "# ***Introduction to Python - The Garden Halls 2022***\n",
        "\n",
        "## By Benjamin Frost"
      ]
    },
    {
      "cell_type": "markdown",
      "metadata": {
        "id": "Ht5qQD8nix0A"
      },
      "source": [
        "### Running code"
      ]
    },
    {
      "cell_type": "markdown",
      "metadata": {
        "id": "J5rtGQGEix0A"
      },
      "source": [
        "*  Click inside the cell below to highlight it and then click the 'Run' button to the left of the cell."
      ]
    },
    {
      "cell_type": "code",
      "execution_count": null,
      "metadata": {
        "colab": {
          "base_uri": "https://localhost:8080/"
        },
        "id": "xrea7FHOix0B",
        "outputId": "3f73c2cc-e3ce-4b52-929a-0bd44ff54c6a"
      },
      "outputs": [],
      "source": [
        "print(\"Hello world\")"
      ]
    },
    {
      "cell_type": "markdown",
      "metadata": {
        "id": "n0Anoe7Kix0D"
      },
      "source": [
        "\n",
        "#### Extra info:\n",
        "\n",
        "\n",
        "1. To execute cells quickly, hold shift and press enter while the cell is highlighted.\n",
        "\n",
        "2. To add another cell below the current cell, press the '+ Code' button in the toolbar.\n",
        "\n",
        "3. Delete cells using the controls to the right of each cell when clicked on."
      ]
    },
    {
      "cell_type": "markdown",
      "metadata": {
        "id": "rQad0Bz8ix0H"
      },
      "source": [
        "## ***Coding in Python***"
      ]
    },
    {
      "cell_type": "markdown",
      "metadata": {
        "id": "DNsxWqG7ix0H"
      },
      "source": [
        "Python is a high level programming language, meaning it does not require the user to have much technical knowledge about how the system works to use it.\n",
        "\n",
        "Variables in Python do not need to be explicitly told their type unlike in other languages."
      ]
    },
    {
      "cell_type": "code",
      "execution_count": null,
      "metadata": {
        "id": "kSKwTzzuix0H"
      },
      "outputs": [],
      "source": [
        "x = \"Hello\"\n",
        "\n",
        "print(type(x))"
      ]
    },
    {
      "cell_type": "markdown",
      "metadata": {
        "id": "AyhdG9s2ix0H"
      },
      "source": [
        "When this code is run, Python can infer that the variable is an String.\n",
        "\n",
        "The print() function is used to output a variable's contents to the console."
      ]
    },
    {
      "cell_type": "markdown",
      "metadata": {
        "id": "qsHUuI7Pix0I"
      },
      "source": [
        "---\n",
        "### Print()"
      ]
    },
    {
      "cell_type": "markdown",
      "metadata": {
        "id": "URuoYWwXix0I"
      },
      "source": [
        "*  Use the print() function in the cell below to print your name and your age. Use quotation marks to surround strings."
      ]
    },
    {
      "cell_type": "code",
      "execution_count": null,
      "metadata": {
        "colab": {
          "base_uri": "https://localhost:8080/"
        },
        "id": "K3JKku3Uix0I",
        "outputId": "b1a96189-bcb0-4b88-daaa-94374586df7f"
      },
      "outputs": [],
      "source": []
    },
    {
      "cell_type": "markdown",
      "metadata": {
        "id": "9hS1Zz6Jk-gb"
      },
      "source": [
        "---\n",
        "### Lists"
      ]
    },
    {
      "cell_type": "markdown",
      "metadata": {
        "id": "BIvMLtIBlB-B"
      },
      "source": [
        "Lists store lots of different types of variables.\n",
        "\n",
        "It's one method of organising data."
      ]
    },
    {
      "cell_type": "code",
      "execution_count": null,
      "metadata": {
        "id": "50bfo511lBHf"
      },
      "outputs": [],
      "source": [
        "myList = [\"Hello world\", 33, True]"
      ]
    },
    {
      "cell_type": "markdown",
      "metadata": {
        "id": "ewxiBwuJlmf8"
      },
      "source": [
        "*  Create a list below containing your name and age, and print the list to the console."
      ]
    },
    {
      "cell_type": "code",
      "execution_count": null,
      "metadata": {
        "id": "YYRsnwN8lzFu"
      },
      "outputs": [],
      "source": []
    },
    {
      "cell_type": "markdown",
      "metadata": {
        "id": "2Iklj4veix0I"
      },
      "source": [
        "---\n",
        "### For loops"
      ]
    },
    {
      "cell_type": "markdown",
      "metadata": {
        "id": "yEego4ERix0J"
      },
      "source": [
        "'For' loops are a useful way of performing the same operation on every item in a list. Lists can be generated for us in Python, using the range() function.\n",
        "\n",
        "For example, range(6) would create a list containing [0,1,2,3,4,5]\n",
        "\n",
        "Notice that computers count from 0."
      ]
    },
    {
      "cell_type": "code",
      "execution_count": null,
      "metadata": {
        "colab": {
          "base_uri": "https://localhost:8080/"
        },
        "id": "URcdkYGEix0J",
        "outputId": "7553df7c-ef64-4153-901e-f5ce8aeb4fce"
      },
      "outputs": [],
      "source": [
        "print(6)\n",
        "\n",
        "myRange = range(0,6)\n",
        "\n",
        "print(list(myRange))"
      ]
    },
    {
      "cell_type": "code",
      "execution_count": null,
      "metadata": {
        "colab": {
          "base_uri": "https://localhost:8080/"
        },
        "id": "BiMWoIPImkZc",
        "outputId": "816a44c3-ff39-4fdd-abb2-19ea21ed53a0"
      },
      "outputs": [],
      "source": [
        "for i in range(0,6):\n",
        "    print(i)"
      ]
    },
    {
      "cell_type": "markdown",
      "metadata": {
        "id": "EU2gbDs1ix0J"
      },
      "source": [
        "*  Create a 'For' loop below that prints numbers 0 up to 100."
      ]
    },
    {
      "cell_type": "code",
      "execution_count": null,
      "metadata": {
        "id": "Tlle3E9Rix0K"
      },
      "outputs": [],
      "source": []
    },
    {
      "cell_type": "markdown",
      "metadata": {
        "id": "zSw6zzF5ix0K"
      },
      "source": [
        "---\n",
        "\n",
        "### Functions"
      ]
    },
    {
      "cell_type": "markdown",
      "metadata": {
        "id": "AZQtMi2wix0K"
      },
      "source": [
        "Functions are used in programming to be able to separate out, orgnaise, and reuse code."
      ]
    },
    {
      "cell_type": "markdown",
      "metadata": {
        "id": "Waygilwsix0K"
      },
      "source": [
        "The method calculateAge below has one parameter: birthYear. This means that whenever the method is run, a variable must be parsed to it through the brackets."
      ]
    },
    {
      "cell_type": "markdown",
      "metadata": {
        "id": "6F7dzgwOnk6B"
      },
      "source": [
        "\n",
        "***Parse***: to feed a parameter into a function\n",
        "\n",
        "***Parameter***: a name given to a variable when parsed to a function"
      ]
    },
    {
      "cell_type": "markdown",
      "metadata": {
        "id": "1qFuMM_eopkR"
      },
      "source": [
        "**Important to note that code inside a function needs to be indented. Press the 'tab' button on your keyboard when coding to indent.**"
      ]
    },
    {
      "cell_type": "code",
      "execution_count": null,
      "metadata": {
        "id": "9v0qFIm7ix0L"
      },
      "outputs": [],
      "source": [
        "def calculateAge(birthYear):\n",
        "    \n",
        "    age = 2022 - birthYear\n",
        "    \n",
        "    print(\"Your age is \" + str(age))"
      ]
    },
    {
      "cell_type": "markdown",
      "metadata": {
        "id": "jRgT1oudix0L"
      },
      "source": [
        "Run the above cell to see what happens.\n",
        "\n",
        "Since the function hasn't been called yet, the code inside it hasn't been executed.\n",
        "\n",
        "But now that the above cell has been run, we can call the function like below:"
      ]
    },
    {
      "cell_type": "code",
      "execution_count": null,
      "metadata": {
        "colab": {
          "base_uri": "https://localhost:8080/"
        },
        "id": "FDW8xuV9ix0L",
        "outputId": "124222d5-50a6-48e1-e0c8-46e458c355b5"
      },
      "outputs": [],
      "source": [
        "birthYear = int(input(\"Please enter the year that you were born: \"))\n",
        "\n",
        "calculateAge(birthYear)"
      ]
    },
    {
      "cell_type": "markdown",
      "metadata": {
        "id": "0C4E9EUMpqgK"
      },
      "source": [
        "input() is used here to get information from the user. By default, this will return to us a string but we want an integer, so the int() wrapper is used."
      ]
    },
    {
      "cell_type": "markdown",
      "metadata": {
        "id": "IQWYVbH2soXz"
      },
      "source": [
        "*  Write a function that, when called, will print each item in a list parsed to it."
      ]
    },
    {
      "cell_type": "code",
      "execution_count": null,
      "metadata": {
        "id": "5ql9Q0o_s375"
      },
      "outputs": [],
      "source": []
    },
    {
      "cell_type": "markdown",
      "metadata": {
        "id": "pw-cfN3Mix0M"
      },
      "source": [
        "---\n",
        "### FizzBuzz"
      ]
    },
    {
      "cell_type": "markdown",
      "metadata": {
        "id": "Q12ViUfIix0N"
      },
      "source": [
        "#### IF"
      ]
    },
    {
      "cell_type": "markdown",
      "metadata": {
        "id": "4XFkGoEgix0N"
      },
      "source": [
        "IF statements are used to decide which code to execute. If a comparison equates to true, one block of code may be run. Otherwise, another block of code may be run."
      ]
    },
    {
      "cell_type": "code",
      "execution_count": null,
      "metadata": {
        "id": "RGi4lBVFix0N"
      },
      "outputs": [],
      "source": [
        "if 3 > 0:\n",
        "    print(\"3 is greater than 0\")\n",
        "else:\n",
        "    print(\"3 is not greater than 0\")"
      ]
    },
    {
      "cell_type": "markdown",
      "metadata": {
        "id": "D0UFSp8yqJyd"
      },
      "source": [
        "**Cheat Sheet:**\n",
        "\n",
        "\n",
        "'>' Greater than\n",
        "\n",
        "'<' Less than\n",
        "\n",
        "'==' Equal to\n",
        "\n",
        "'!=' Not equal to\n",
        "\n"
      ]
    },
    {
      "cell_type": "markdown",
      "metadata": {
        "id": "9jiVJCetpT5H"
      },
      "source": [
        "*  Write an IF statement that outputs the result of 9 * 9 if a string inputted by the user is equal to \"I love Python\".\n",
        "\n",
        "*  If the strings are not equal, output the result of 8 * 8."
      ]
    },
    {
      "cell_type": "code",
      "execution_count": null,
      "metadata": {
        "id": "l5e0nh95pTcL"
      },
      "outputs": [],
      "source": []
    },
    {
      "cell_type": "markdown",
      "metadata": {
        "id": "dTjcAqnDrGy5"
      },
      "source": [
        "#### Hint"
      ]
    },
    {
      "cell_type": "markdown",
      "metadata": {
        "id": "Ko3xMyb2rWbv"
      },
      "source": [
        "Store the user's input in a variable first, using the input() function.\n",
        "\n",
        "Then, compare this to the \"I love Python\" string in an IF statement using the == comparator"
      ]
    },
    {
      "cell_type": "markdown",
      "metadata": {
        "id": "BSzzrW19ix0N"
      },
      "source": [
        "---\n",
        "#### Modulo"
      ]
    },
    {
      "cell_type": "markdown",
      "metadata": {
        "id": "du98odr4ix0N"
      },
      "source": [
        "The modulo operator can tell us if a number can be completely divided by another.\n",
        "\n",
        "It does so by telling us the remainder of a division. \n",
        "\n",
        "\n",
        "5 % 2 = 1\n",
        "\n",
        "10 % 10 = 0\n",
        "\n",
        "\n",
        "For example, it can be used to find all even numbers like the below:"
      ]
    },
    {
      "cell_type": "code",
      "execution_count": null,
      "metadata": {
        "colab": {
          "base_uri": "https://localhost:8080/"
        },
        "id": "zxyEF4DPix0O",
        "outputId": "871dd45e-33d3-4d03-abf2-ea47353b4a4c"
      },
      "outputs": [],
      "source": [
        "for i in range(10):\n",
        "    if i % 2 == 0:\n",
        "        print(i)"
      ]
    },
    {
      "cell_type": "markdown",
      "metadata": {
        "id": "yBHYTui_ix0O"
      },
      "source": [
        "*  Write a function that takes a number as a parameter and loops through its range, printing either \"Fizz\" or \"Buzz\" to the console depending on if the value is divisible by 3.\n"
      ]
    },
    {
      "cell_type": "markdown",
      "metadata": {
        "id": "6vjWyICzix0O"
      },
      "source": [
        "EG\n",
        "\n",
        "Fizz\n",
        "\n",
        "Buzz\n",
        "\n",
        "Buzz\n",
        "\n",
        "Fizz"
      ]
    },
    {
      "cell_type": "code",
      "execution_count": null,
      "metadata": {
        "id": "LUKaIdMiix0P"
      },
      "outputs": [],
      "source": []
    },
    {
      "cell_type": "markdown",
      "metadata": {
        "id": "nQ5I0le8ix0P"
      },
      "source": [
        "---\n",
        "#### Random"
      ]
    },
    {
      "cell_type": "markdown",
      "metadata": {
        "id": "rkWhSHS3ix0Q"
      },
      "source": [
        "Python has a wide range of libraries that can be imported to help accomplish different tasks. One such library is 'random', which allows a random number to be generated.\n",
        "\n",
        "random.randint() will give us an integer between the bounds we parse to it."
      ]
    },
    {
      "cell_type": "code",
      "execution_count": null,
      "metadata": {
        "colab": {
          "base_uri": "https://localhost:8080/"
        },
        "id": "-A_EDVSDix0P",
        "outputId": "b1133aa1-735d-4898-e7b4-f5f3a65be741"
      },
      "outputs": [],
      "source": [
        "import random\n",
        "\n",
        "print(random.randint(0,1))"
      ]
    },
    {
      "cell_type": "markdown",
      "metadata": {
        "id": "PWVjrescix0Q"
      },
      "source": [
        "*  Write a function that generates a random number between 0 and 1 five times and prints 'Fizz' to the console if the number is 1, and 'Buzz' to the console if the number is 0."
      ]
    },
    {
      "cell_type": "markdown",
      "metadata": {
        "id": "IlViO06mix0Q"
      },
      "source": [
        "EG\n",
        "\n",
        "Buzz\n",
        "\n",
        "Fizz\n",
        "\n",
        "Fizz\n",
        "\n",
        "Fizz\n",
        "\n",
        "Buzz"
      ]
    },
    {
      "cell_type": "code",
      "execution_count": null,
      "metadata": {
        "id": "55S5EYNzix0Q"
      },
      "outputs": [],
      "source": []
    },
    {
      "cell_type": "markdown",
      "metadata": {
        "id": "2c1D52Yoix0R"
      },
      "source": [
        "---\n",
        "### Timers"
      ]
    },
    {
      "cell_type": "markdown",
      "metadata": {
        "id": "bQ83dYaTix0R"
      },
      "source": [
        "#### While"
      ]
    },
    {
      "cell_type": "markdown",
      "metadata": {
        "id": "-6oxonDlix0R"
      },
      "source": [
        "A 'While' loop is another type of loop in programming which will run so long as a certain condition is met.\n",
        "\n",
        "The += operator will increment a variable by a given amount."
      ]
    },
    {
      "cell_type": "code",
      "execution_count": null,
      "metadata": {
        "id": "ydY29kOLix0T"
      },
      "outputs": [],
      "source": [
        "x = 0\n",
        "\n",
        "while x < 4:\n",
        "    print(x)\n",
        "    x += 1"
      ]
    },
    {
      "cell_type": "markdown",
      "metadata": {
        "id": "JG2nFrN_wRv9"
      },
      "source": [
        "*  Create a 'While' loop that outputs the string \"Hello world\" to the console 5 times."
      ]
    },
    {
      "cell_type": "code",
      "execution_count": null,
      "metadata": {
        "id": "ig8NeRi1wdpn"
      },
      "outputs": [],
      "source": []
    },
    {
      "cell_type": "markdown",
      "metadata": {
        "id": "AFdGofSZupFF"
      },
      "source": [
        "*  Write a 'While' loop that generates a random integer between 1000 and 3000 in each loop.\n",
        "\n",
        "*  If the number is divisible by 17, output that number. Otherwise, output \"Not divisible\".\n",
        "\n",
        "*  Stop once 4 numbers divisible by 17 have been found."
      ]
    },
    {
      "cell_type": "code",
      "execution_count": null,
      "metadata": {
        "id": "bYgX5l6BupgG"
      },
      "outputs": [],
      "source": []
    },
    {
      "cell_type": "markdown",
      "metadata": {
        "id": "wkjz8c73ix0U"
      },
      "source": [
        "---\n",
        "#### Time"
      ]
    },
    {
      "cell_type": "markdown",
      "metadata": {
        "id": "f4R2RHQNix0U"
      },
      "source": [
        "Python has a library called 'time' that can be used for many different operations.\n",
        "\n",
        "A fundamental tool for a programmer is the ability to look up ways of using libraries.\n",
        "\n",
        "* Search online for the 'time' library and find how to use the method sleep() to complete the task below.\n",
        "\n",
        "EG: Google \"python time library sleep\""
      ]
    },
    {
      "cell_type": "markdown",
      "metadata": {
        "id": "crpxZtrdix0U"
      },
      "source": [
        "* Write a method that prints an incrementing number to the console every second for 5 seconds."
      ]
    },
    {
      "cell_type": "markdown",
      "metadata": {
        "id": "tCrMLUqZix0V"
      },
      "source": [
        "EG\n",
        "\n",
        "1\n",
        "\n",
        "2\n",
        "\n",
        "3\n",
        "\n",
        "4\n",
        "\n",
        "5"
      ]
    },
    {
      "cell_type": "code",
      "execution_count": null,
      "metadata": {
        "id": "bPJ7x4Ncix0V"
      },
      "outputs": [],
      "source": []
    },
    {
      "cell_type": "markdown",
      "metadata": {
        "id": "FJzNqu_Six0X"
      },
      "source": [
        "# Extension Tasks - Data Structures"
      ]
    },
    {
      "cell_type": "markdown",
      "metadata": {
        "id": "l7YQReY_ix0W"
      },
      "source": [
        "Values can be added to a list using the append() function as seen below."
      ]
    },
    {
      "cell_type": "code",
      "execution_count": null,
      "metadata": {
        "colab": {
          "base_uri": "https://localhost:8080/"
        },
        "id": "Pc95mZ_Uix0W",
        "outputId": "aab4a57a-ca6a-47bd-c0a9-a6fecad56dce"
      },
      "outputs": [],
      "source": [
        "myList = [1,2,3]\n",
        "\n",
        "myList.append(4)\n",
        "\n",
        "print(myList)"
      ]
    },
    {
      "cell_type": "markdown",
      "metadata": {
        "id": "83_g5D-Rix0W"
      },
      "source": [
        "*  Create a method that asks the user for an input 5 times and appends that input to a list. Once completed, display the list."
      ]
    },
    {
      "cell_type": "code",
      "execution_count": null,
      "metadata": {
        "id": "cEq15Y6Qix0W"
      },
      "outputs": [],
      "source": []
    },
    {
      "cell_type": "markdown",
      "metadata": {
        "id": "OaxeCyguix0W"
      },
      "source": [
        "### Dictionaries"
      ]
    },
    {
      "cell_type": "markdown",
      "metadata": {
        "id": "MjcxM1Yaix0W"
      },
      "source": [
        "#### Dictionaries consist of a key/value pair. Use the key to access the value.\n",
        "\n",
        "EG: myDict = {key1 : value1, key2 : value2}"
      ]
    },
    {
      "cell_type": "code",
      "execution_count": null,
      "metadata": {
        "id": "yVVY_CAqix0X"
      },
      "outputs": [],
      "source": [
        "myDict = {\"Ben\" : \"Frost\", \"Nick\" : \"Zavitsanos\", \"Jacob\": \"Kristensen\"}"
      ]
    },
    {
      "cell_type": "markdown",
      "metadata": {
        "id": "iw6Cb8kQyYWK"
      },
      "source": [
        "*  Create a dictionary containing two items in front of you and their rough weight.\n",
        "*  Use the item name as the key, and the weight as the value."
      ]
    },
    {
      "cell_type": "code",
      "execution_count": null,
      "metadata": {
        "id": "TiOcNDbOy8Gx"
      },
      "outputs": [],
      "source": []
    },
    {
      "cell_type": "markdown",
      "metadata": {
        "id": "M6Tfps98zBuP"
      },
      "source": [
        "*  What do you think the below code does?\n",
        "*  What do the .get() and .title() operations do?\n",
        "*  Can you tell from this how items are added to a dictionary?\n",
        "\n",
        "You can edit the code and add print() statements to see how the variables change through execution"
      ]
    },
    {
      "cell_type": "markdown",
      "metadata": {
        "id": "5gNRDrGezbvY"
      },
      "source": [
        "Double click here to add your deductions"
      ]
    },
    {
      "cell_type": "code",
      "execution_count": null,
      "metadata": {
        "id": "wObHV9jYix0X"
      },
      "outputs": [],
      "source": [
        "myDict = {\"Ben\" : \"Frost\", \"Nick\" : \"Zavitsanos\", \"Jacob\": \"Kristensen\"}\n",
        "\n",
        "firstName = input(\"What is your first name? \").title()\n",
        "\n",
        "\n",
        "if firstName in myDict:\n",
        "    \n",
        "    print(\"Hello \" + firstName + \" \" + myDict.get(firstName))\n",
        "    \n",
        "else:\n",
        "    \n",
        "    print(\"We don't have your record.\")\n",
        "    lastName = input(\"Please enter your last name: \").title()\n",
        "    \n",
        "    myDict[firstName] = lastName\n",
        "    \n",
        "    print(\"Hello \" + firstName + \" \" + myDict.get(firstName))"
      ]
    },
    {
      "cell_type": "markdown",
      "metadata": {
        "id": "IYNPlphpix0X"
      },
      "source": [
        "*  Write a function called purchaseFruit() that contains a dictionary of fruit and their corresponding prices. \n",
        "*  When the function is run, ask the user to input the names of 3 fruit they would like to purchase.\n",
        "*  Output the total cost of their selection.\n",
        "\n",
        "*  At the start of execution, the method should output the selection of fruit available to purchase and their prices."
      ]
    },
    {
      "cell_type": "code",
      "execution_count": null,
      "metadata": {
        "id": "RftzwlIIix0X"
      },
      "outputs": [],
      "source": []
    }
  ],
  "metadata": {
    "colab": {
      "name": "Session_1.ipynb",
      "provenance": []
    },
    "kernelspec": {
      "display_name": "Python 3",
      "language": "python",
      "name": "python3"
    },
    "language_info": {
      "codemirror_mode": {
        "name": "ipython",
        "version": 3
      },
      "file_extension": ".py",
      "mimetype": "text/x-python",
      "name": "python",
      "nbconvert_exporter": "python",
      "pygments_lexer": "ipython3",
      "version": "3.8.5"
    }
  },
  "nbformat": 4,
  "nbformat_minor": 0
}
