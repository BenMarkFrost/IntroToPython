{
  "cells": [
    {
      "cell_type": "markdown",
      "metadata": {
        "id": "p5tBJp1mixz5"
      },
      "source": [
        "# ***Introduction to Python - The Garden Halls 2022***\n",
        "\n",
        "## By Benjamin Frost"
      ]
    },
    {
      "cell_type": "markdown",
      "metadata": {
        "id": "gDHVZS6AD2Tf"
      },
      "source": [
        "Today we will learn the skills to make a number guessing game in Python.\n",
        "\n",
        "\n",
        "* The program chooses a random number between 0 and 100.\n",
        "* The program asks the player to guess the number.\n",
        "* The program tells the player if the guess is too high or too low.\n",
        "* The program repeats until the player guesses the number.\n",
        "\n",
        "\n",
        "EG:\n",
        "\n",
        "**Computer chooses 54**\n",
        "* The player guesses 50\n",
        "* The player is too low\n",
        "* The player guesses 75\n",
        "* The player is too high\n",
        "* The player guesses 60\n",
        "* Player is too high\n",
        "* Player guesses 55\n",
        "* Player is too high\n",
        "* Player guesses 54\n",
        "* Player is correct\n",
        "\n",
        "**Computer prints that the user finished in 5 guesses**"
      ]
    },
    {
      "cell_type": "markdown",
      "metadata": {
        "id": "rQad0Bz8ix0H"
      },
      "source": [
        "---\n",
        "## ***Coding in Python***"
      ]
    },
    {
      "cell_type": "markdown",
      "metadata": {
        "id": "J5rtGQGEix0A"
      },
      "source": [
        "Make sure to run all the pre-written code cells to see what they do.\n",
        "\n",
        "*  Click inside the cell below to highlight it and then click the 'Run' button to the left of the cell."
      ]
    },
    {
      "cell_type": "code",
      "execution_count": null,
      "metadata": {
        "id": "xrea7FHOix0B"
      },
      "outputs": [],
      "source": [
        "print(\"Garden Halls\")"
      ]
    },
    {
      "cell_type": "markdown",
      "metadata": {
        "id": "DNsxWqG7ix0H"
      },
      "source": [
        "* In this tutorial, tasks to be completed are marked with bullet point formatting, like this line.\n",
        "* Replace the placeholder text and print your name below."
      ]
    },
    {
      "cell_type": "code",
      "execution_count": null,
      "metadata": {
        "id": "kSKwTzzuix0H"
      },
      "outputs": [],
      "source": [
        "print(**Put your name here**)"
      ]
    },
    {
      "cell_type": "markdown",
      "metadata": {
        "id": "KOshA-EQD2Ti"
      },
      "source": [
        "---\n",
        "## Variables:"
      ]
    },
    {
      "cell_type": "markdown",
      "metadata": {
        "id": "AyhdG9s2ix0H"
      },
      "source": [
        "We can assign values to variables, change them, and print them using print(*variable goes here*)"
      ]
    },
    {
      "cell_type": "markdown",
      "metadata": {
        "id": "TSLTRBqED2Tk"
      },
      "source": [
        "String: \"Hello\", \"a\", \"This is Python\"\n",
        "\n",
        "Integer: 1, 5, 777\n",
        "\n",
        "Float: 1.333, 5.0, -1.0\n",
        "\n",
        "Boolean: True, False"
      ]
    },
    {
      "cell_type": "code",
      "execution_count": null,
      "metadata": {
        "id": "QoHUnYb8D2Tk"
      },
      "outputs": [],
      "source": [
        "# For example:\n",
        "\n",
        "# x is an integer\n",
        "x = 5\n",
        "\n",
        "print(x)"
      ]
    },
    {
      "cell_type": "markdown",
      "metadata": {
        "id": "516TJDFwD2Tk"
      },
      "source": [
        "* Create a new variable below called y which is of type Float."
      ]
    },
    {
      "cell_type": "code",
      "execution_count": null,
      "metadata": {
        "id": "7Ioio3b1D2Tl"
      },
      "outputs": [],
      "source": []
    },
    {
      "cell_type": "markdown",
      "metadata": {
        "id": "URuoYWwXix0I"
      },
      "source": [
        "*  Use the print() function in the cell below to print this new variable"
      ]
    },
    {
      "cell_type": "code",
      "execution_count": null,
      "metadata": {
        "id": "K3JKku3Uix0I"
      },
      "outputs": [],
      "source": []
    },
    {
      "cell_type": "markdown",
      "metadata": {
        "id": "I3NaxdzND2Tl"
      },
      "source": [
        "We can perform operations on variables using conventional maths symbols."
      ]
    },
    {
      "cell_type": "markdown",
      "metadata": {
        "id": "WGr6OEX3D2Tm"
      },
      "source": [
        "Cheat Sheet:\n",
        "\n",
        "'+' = add\n",
        "\n",
        "'-' = subtract\n",
        "\n",
        "'*' = multiply\n",
        "\n",
        "'/' = divide"
      ]
    },
    {
      "cell_type": "code",
      "execution_count": null,
      "metadata": {
        "id": "R59VjNndD2Tm"
      },
      "outputs": [],
      "source": [
        "# For example:\n",
        "\n",
        "x = 9\n",
        "\n",
        "y = 10\n",
        "\n",
        "z = (x * y) - x\n",
        "\n",
        "print(z)"
      ]
    },
    {
      "cell_type": "markdown",
      "metadata": {
        "id": "mVWAnct6D2Tm"
      },
      "source": [
        "* Divide 1005 by 4 and print the result\n",
        "* What type of variable is the result?"
      ]
    },
    {
      "cell_type": "code",
      "execution_count": null,
      "metadata": {
        "id": "SaCZMf-lD2Tm"
      },
      "outputs": [],
      "source": []
    },
    {
      "cell_type": "markdown",
      "metadata": {
        "id": "RDs1Bh9nD2Tn"
      },
      "source": [
        "* Given the variables defined below (and in the same cell), create another variable which:\n",
        "* 1) Multiplies them together\n",
        "* 2) Divides the result by 2\n",
        "* Print the result"
      ]
    },
    {
      "cell_type": "code",
      "execution_count": null,
      "metadata": {
        "id": "oqCzX4OAD2Tn"
      },
      "outputs": [],
      "source": [
        "x = 3\n",
        "y = 6\n",
        "z = 7\n"
      ]
    },
    {
      "cell_type": "markdown",
      "metadata": {
        "id": "pw-cfN3Mix0M"
      },
      "source": [
        "---\n",
        "### IF"
      ]
    },
    {
      "cell_type": "markdown",
      "metadata": {
        "id": "4XFkGoEgix0N"
      },
      "source": [
        "IF statements are used to decide which code to execute. If a comparison equates to true, one block of code may be run. Otherwise, another block of code may be run."
      ]
    },
    {
      "cell_type": "markdown",
      "metadata": {
        "id": "D0UFSp8yqJyd"
      },
      "source": [
        "**Cheat Sheet:**\n",
        "\n",
        "\n",
        "'>' Greater than\n",
        "\n",
        "'<' Less than\n",
        "\n",
        "'==' Equal to\n",
        "\n",
        "'!=' Not equal to\n",
        "\n"
      ]
    },
    {
      "cell_type": "code",
      "execution_count": null,
      "metadata": {
        "id": "eHKbJBaWE-gP"
      },
      "outputs": [],
      "source": [
        "# String Comparisons\n",
        "\n",
        "if \"hello\" == \"HELLO\":\n",
        "  print(\"lowercase hello\")"
      ]
    },
    {
      "cell_type": "code",
      "execution_count": 1,
      "metadata": {
        "colab": {
          "base_uri": "https://localhost:8080/"
        },
        "id": "RGi4lBVFix0N",
        "outputId": "28e12cc4-18a9-4f0b-a655-3d9780b72573"
      },
      "outputs": [
        {
          "name": "stdout",
          "output_type": "stream",
          "text": [
            "3 is greater than 0\n"
          ]
        }
      ],
      "source": [
        "# Number Comparisons\n",
        "\n",
        "if 3 > 0:\n",
        "    print(\"3 is greater than 0\")\n",
        "else:\n",
        "    print(\"3 is not greater than 0\")"
      ]
    },
    {
      "cell_type": "markdown",
      "metadata": {
        "id": "9jiVJCetpT5H"
      },
      "source": [
        "*  Write an IF statement that outputs the result of 9 * 9 if the variable is equal to \"I love Python\".\n",
        "*  If the strings are not equal, output the result of 8 * 8."
      ]
    },
    {
      "cell_type": "code",
      "execution_count": null,
      "metadata": {
        "id": "l5e0nh95pTcL"
      },
      "outputs": [],
      "source": []
    },
    {
      "cell_type": "markdown",
      "metadata": {
        "id": "bQ83dYaTix0R"
      },
      "source": [
        "---\n",
        "\n",
        "### While"
      ]
    },
    {
      "cell_type": "markdown",
      "metadata": {
        "id": "-6oxonDlix0R"
      },
      "source": [
        "A 'While' loop will run the contained code until a certain condition is met.\n",
        "\n",
        "The IF operator runs code *once* if a condition is met.\n",
        "\n",
        "While loops will *loop* over that code while the condition is met."
      ]
    },
    {
      "cell_type": "code",
      "execution_count": null,
      "metadata": {
        "id": "ydY29kOLix0T"
      },
      "outputs": [],
      "source": [
        "x = 0\n",
        "\n",
        "while x < 4:\n",
        "    print(x)\n",
        "    x = x + 1"
      ]
    },
    {
      "cell_type": "markdown",
      "metadata": {
        "id": "JG2nFrN_wRv9"
      },
      "source": [
        "*  Create a variable called 'x' and set its value to 0.\n",
        "\n",
        "*  Write a 'While' loop that loops while this counter is < 4. Increment the counter each loop.\n",
        "\n",
        "*  Print the string \"Hello world\" in each loop. Use the example above to help."
      ]
    },
    {
      "cell_type": "code",
      "execution_count": null,
      "metadata": {
        "id": "ig8NeRi1wdpn"
      },
      "outputs": [],
      "source": []
    },
    {
      "cell_type": "markdown",
      "metadata": {
        "id": "AFdGofSZupFF"
      },
      "source": [
        "*  Create a variable called 'x' and set its value to 0\n",
        "\n",
        "*  Write a 'While' loop that loops while this counter is < 6.\n",
        "\n",
        "*  Inside the loop, generate a random integer between 1000 and 3000.\n",
        "\n",
        "*  If the number is divisible by 17, output that number and increment the counter. Otherwise, output \"Not divisible\".\n"
      ]
    },
    {
      "cell_type": "code",
      "execution_count": null,
      "metadata": {
        "id": "bYgX5l6BupgG"
      },
      "outputs": [],
      "source": []
    },
    {
      "cell_type": "markdown",
      "metadata": {
        "id": "zSw6zzF5ix0K"
      },
      "source": [
        "---\n",
        "\n",
        "### Functions"
      ]
    },
    {
      "cell_type": "markdown",
      "metadata": {
        "id": "AZQtMi2wix0K"
      },
      "source": [
        "Functions are used in programming to be able to separate out, organise, and reuse code. They are defined as *myFunctionName*(*my variables*).\n",
        "\n",
        "We've seen some functions already - range() and print() are examples."
      ]
    },
    {
      "cell_type": "markdown",
      "metadata": {
        "id": "Waygilwsix0K"
      },
      "source": [
        "The function calculateAge() below takes one variable: birthYear. This means that whenever the function is run, a variable must be given to it."
      ]
    },
    {
      "cell_type": "code",
      "execution_count": null,
      "metadata": {
        "id": "9v0qFIm7ix0L"
      },
      "outputs": [],
      "source": [
        "def calculateAge(birthYear):\n",
        "    \n",
        "    age = 2022 - birthYear\n",
        "    \n",
        "    print(\"Your age is \" + str(age))"
      ]
    },
    {
      "cell_type": "markdown",
      "metadata": {
        "id": "jRgT1oudix0L"
      },
      "source": [
        "Run the above cell to see what happens.\n",
        "\n",
        "The answer should be: nothing. We've told Python what the function is, but since it hasn't been called yet the code inside it hasn't been executed.\n",
        "\n",
        "We can now call the function like below:"
      ]
    },
    {
      "cell_type": "code",
      "execution_count": null,
      "metadata": {
        "id": "fc-ulfiOD2Tt"
      },
      "outputs": [],
      "source": [
        "calculateAge(1994)"
      ]
    },
    {
      "cell_type": "markdown",
      "metadata": {
        "id": "W7LxihqBD2Tt"
      },
      "source": [
        "Giving a variable into a function is called 'parsing' the variable.\n",
        "When this is done, the variable is called an argument.\n",
        "\n",
        "Above, 1994 is the argument"
      ]
    },
    {
      "cell_type": "markdown",
      "metadata": {
        "id": "vs2wvN_YD2Tt"
      },
      "source": [
        "* Create a loop with range(5)\n",
        "* In each loop, add 'i' to 2000 and parse the result to the calculateAge() function."
      ]
    },
    {
      "cell_type": "markdown",
      "metadata": {
        "id": "5HYmeLVPD2Tt"
      },
      "source": [
        "EG output:\n",
        "\n",
        "Your age is 22\n",
        "\n",
        "Your age is 21\n",
        "\n",
        "Your age is 20\n",
        "\n",
        "Your age is 19\n",
        "\n",
        "Your age is 18"
      ]
    },
    {
      "cell_type": "code",
      "execution_count": null,
      "metadata": {
        "id": "N9UKaRvgD2Tt"
      },
      "outputs": [],
      "source": []
    },
    {
      "cell_type": "markdown",
      "metadata": {
        "id": "Pi_8XOaxD2Tt"
      },
      "source": [
        "We can make this function more useful by having the user input their birth year."
      ]
    },
    {
      "cell_type": "code",
      "execution_count": null,
      "metadata": {
        "id": "FDW8xuV9ix0L"
      },
      "outputs": [],
      "source": [
        "# This is an example of a comment. Comments are part of the code that aren't executed.\n",
        "\n",
        "# Input asks the user for a value.\n",
        "year = input(\"Please enter the year that you were born: \")\n",
        "\n",
        "# We can convert the string to an integer.\n",
        "year = int(year)\n",
        "\n",
        "# Here we are parsing year to calculateAge().\n",
        "calculateAge(year)"
      ]
    },
    {
      "cell_type": "markdown",
      "metadata": {
        "id": "Sj2owBYwD2Tu"
      },
      "source": [
        "* Below, ask the user for a new input, and store this input in a variable."
      ]
    },
    {
      "cell_type": "code",
      "execution_count": null,
      "metadata": {
        "id": "jb2EssHMD2Tu"
      },
      "outputs": [],
      "source": []
    },
    {
      "cell_type": "markdown",
      "metadata": {
        "id": "IQWYVbH2soXz"
      },
      "source": [
        "* Create a new function called 'printValue(myVal)' that prints values parsed to it. Use the 'calculateAge()' example function to help."
      ]
    },
    {
      "cell_type": "code",
      "execution_count": null,
      "metadata": {
        "id": "5ql9Q0o_s375"
      },
      "outputs": [],
      "source": []
    },
    {
      "cell_type": "markdown",
      "metadata": {
        "id": "khXBsNe3D2Tu"
      },
      "source": [
        "* Call this new function with the value parsed from the user."
      ]
    },
    {
      "cell_type": "code",
      "execution_count": null,
      "metadata": {
        "id": "sl1lgbMqD2Tv"
      },
      "outputs": [],
      "source": []
    },
    {
      "cell_type": "markdown",
      "metadata": {
        "id": "nQ5I0le8ix0P"
      },
      "source": [
        "---\n",
        "#### Random"
      ]
    },
    {
      "cell_type": "markdown",
      "metadata": {
        "id": "rkWhSHS3ix0Q"
      },
      "source": [
        "Python has a wide range of libraries that can be imported to help accomplish different tasks. One such library is 'random', which allows various random numbers to be generated.\n",
        "\n",
        "random.randint() will give us a random integer between two given bounds each time it is called."
      ]
    },
    {
      "cell_type": "code",
      "execution_count": null,
      "metadata": {
        "id": "-A_EDVSDix0P"
      },
      "outputs": [],
      "source": [
        "# We need to import the random module to use the randint() function.\n",
        "import random\n",
        "\n",
        "myNum = random.randint(0,1)\n",
        "print(myNum)"
      ]
    },
    {
      "cell_type": "markdown",
      "metadata": {
        "id": "PWVjrescix0Q"
      },
      "source": [
        "* Write a function that loops code 5 times.\n",
        "* In each loop, generate a random number between 0 and 1.\n",
        "* Print 'Fizz' to the console if the generated number is 1, and 'Buzz' to the console if the number is 0."
      ]
    },
    {
      "cell_type": "markdown",
      "metadata": {
        "id": "IlViO06mix0Q"
      },
      "source": [
        "EG\n",
        "\n",
        "Buzz\n",
        "\n",
        "Fizz\n",
        "\n",
        "Fizz\n",
        "\n",
        "Fizz\n",
        "\n",
        "Buzz"
      ]
    },
    {
      "cell_type": "code",
      "execution_count": null,
      "metadata": {
        "id": "55S5EYNzix0Q"
      },
      "outputs": [],
      "source": []
    },
    {
      "cell_type": "markdown",
      "metadata": {
        "id": "zGDaQB6eD2To"
      },
      "source": [
        "---\n",
        "\n",
        "### Making the game"
      ]
    },
    {
      "cell_type": "markdown",
      "metadata": {
        "id": "3KClFJ_XD2To"
      },
      "source": [
        "Let's start making the game. We need to start by creating a function to contain the code, called numberGuesser().\n",
        "\n",
        "Whenever we call numberGuesser(), the code within it will be executed."
      ]
    },
    {
      "cell_type": "code",
      "execution_count": null,
      "metadata": {
        "id": "1-_rKZKHD2To"
      },
      "outputs": [],
      "source": [
        "def numberGuesser():\n",
        "    print(\"I'm running\")"
      ]
    },
    {
      "cell_type": "code",
      "execution_count": null,
      "metadata": {
        "id": "Mdh7dC-vD2To",
        "outputId": "63617e9e-80a9-4e6d-fcde-3ab2d60ed3f1"
      },
      "outputs": [
        {
          "name": "stdout",
          "output_type": "stream",
          "text": [
            "I'm running\n"
          ]
        }
      ],
      "source": [
        "numberGuesser()"
      ]
    },
    {
      "cell_type": "code",
      "execution_count": 6,
      "metadata": {
        "id": "bhCTmrKWG53J"
      },
      "outputs": [],
      "source": [
        "import random"
      ]
    },
    {
      "cell_type": "code",
      "execution_count": 15,
      "metadata": {
        "id": "jjPZNhyLG2B-"
      },
      "outputs": [],
      "source": [
        "def numberGuesser():\n",
        "\n",
        "  number = random.randint(0,100)\n",
        "\n",
        "  totalGuesses = 0\n",
        "\n",
        "  guess = int(input(\"Enter your guess: \"))\n",
        "\n",
        "  while guess != number:\n",
        "\n",
        "    if guess > number:\n",
        "      print(\"Too high\")\n",
        "    else:\n",
        "      print(\"Too low\")\n",
        "\n",
        "    totalGuesses = totalGuesses + 1\n",
        "\n",
        "    guess = int(input(\"Enter your guess: \"))\n",
        "  \n",
        "  print(\"Guessed \" + str(number) + \" in \" + str(totalGuesses) + \" guesses\")\n"
      ]
    },
    {
      "cell_type": "code",
      "execution_count": 16,
      "metadata": {
        "colab": {
          "base_uri": "https://localhost:8080/"
        },
        "id": "jhBx4BNuG-oi",
        "outputId": "22a67f0f-d4c5-40a0-e3df-7eb0218e759f"
      },
      "outputs": [
        {
          "name": "stdout",
          "output_type": "stream",
          "text": [
            "Enter your guess4\n",
            "Too low\n",
            "Enter your guess10\n",
            "Too low\n",
            "Enter your guess100\n",
            "Too high\n",
            "Enter your guess60\n",
            "Too low\n",
            "Enter your guess80\n",
            "Too low\n",
            "Enter your guess90\n",
            "Too low\n",
            "Enter your guess99\n",
            "Too high\n",
            "Enter your guess95\n",
            "Too high\n",
            "Enter your guess93\n",
            "Guessed 93 in 8 guesses\n"
          ]
        }
      ],
      "source": [
        "numberGuesser()"
      ]
    },
    {
      "cell_type": "code",
      "execution_count": null,
      "metadata": {
        "id": "N_k5TK44G_wt"
      },
      "outputs": [],
      "source": []
    }
  ],
  "metadata": {
    "colab": {
      "collapsed_sections": [
        "bQ83dYaTix0R",
        "zSw6zzF5ix0K",
        "nQ5I0le8ix0P"
      ],
      "name": "Session_1.ipynb",
      "provenance": []
    },
    "interpreter": {
      "hash": "31f2aee4e71d21fbe5cf8b01ff0e069b9275f58929596ceb00d14d90e3e16cd6"
    },
    "kernelspec": {
      "display_name": "Python 3.8.9 64-bit",
      "name": "python3"
    },
    "language_info": {
      "codemirror_mode": {
        "name": "ipython",
        "version": 3
      },
      "file_extension": ".py",
      "mimetype": "text/x-python",
      "name": "python",
      "nbconvert_exporter": "python",
      "pygments_lexer": "ipython3",
      "version": "3.8.5"
    }
  },
  "nbformat": 4,
  "nbformat_minor": 0
}
