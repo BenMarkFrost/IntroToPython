{
  "cells": [
    {
      "cell_type": "markdown",
      "metadata": {
        "id": "p5tBJp1mixz5"
      },
      "source": [
        "# ***Introduction to Python - The Garden Halls 2022***\n",
        "\n",
        "## By Benjamin Frost"
      ]
    },
    {
      "cell_type": "markdown",
      "metadata": {
        "id": "Ht5qQD8nix0A"
      },
      "source": [
        "### Running code"
      ]
    },
    {
      "cell_type": "markdown",
      "metadata": {
        "id": "J5rtGQGEix0A"
      },
      "source": [
        "Make sure to run all the pre-written code cells to see what they do.\n",
        "\n",
        "*  Click inside the cell below to highlight it and then click the 'Run' button to the left of the cell."
      ]
    },
    {
      "cell_type": "code",
      "execution_count": null,
      "metadata": {
        "colab": {
          "base_uri": "https://localhost:8080/"
        },
        "id": "xrea7FHOix0B",
        "outputId": "3f73c2cc-e3ce-4b52-929a-0bd44ff54c6a"
      },
      "outputs": [],
      "source": [
        "print(\"Garden Halls\")"
      ]
    },
    {
      "cell_type": "markdown",
      "metadata": {
        "id": "n0Anoe7Kix0D"
      },
      "source": [
        "\n",
        "#### Optional:\n",
        "\n",
        "\n",
        "1. To execute cells quickly, hold shift and press enter while the cell is highlighted.\n",
        "\n",
        "2. To add another cell below the current cell, press the '+ Code' button in the toolbar.\n",
        "\n",
        "3. Delete cells using the controls to the right of each cell when clicked on."
      ]
    },
    {
      "cell_type": "markdown",
      "metadata": {
        "id": "rQad0Bz8ix0H"
      },
      "source": [
        "## ***Coding in Python***"
      ]
    },
    {
      "cell_type": "markdown",
      "metadata": {
        "id": "DNsxWqG7ix0H"
      },
      "source": [
        "* In this tutorial, tasks to be completed are marked with bullet point formatting, like this line. Make sure to test your code and see what happens if you change parts of it.\n",
        "\n",
        "\n",
        "\n",
        "Below, x is a type of variable."
      ]
    },
    {
      "cell_type": "code",
      "execution_count": null,
      "metadata": {
        "id": "kSKwTzzuix0H"
      },
      "outputs": [],
      "source": [
        "x = \"Hello\"\n",
        "\n",
        "print(x)"
      ]
    },
    {
      "cell_type": "markdown",
      "metadata": {
        "id": "AyhdG9s2ix0H"
      },
      "source": [
        "We can change variables in many different ways and output them to the screen using print(*variable goes here*)"
      ]
    },
    {
      "cell_type": "markdown",
      "metadata": {
        "id": "qsHUuI7Pix0I"
      },
      "source": [
        "---\n",
        "### Print()"
      ]
    },
    {
      "cell_type": "markdown",
      "metadata": {},
      "source": [
        "* What type of variable is x in the section above?\n",
        "* Create a new variable below called y which is one of the other variable types."
      ]
    },
    {
      "cell_type": "code",
      "execution_count": null,
      "metadata": {},
      "outputs": [],
      "source": []
    },
    {
      "cell_type": "markdown",
      "metadata": {
        "id": "URuoYWwXix0I"
      },
      "source": [
        "*  Use the print() function in the cell below to print this new variable and your age on separate lines."
      ]
    },
    {
      "cell_type": "code",
      "execution_count": null,
      "metadata": {
        "colab": {
          "base_uri": "https://localhost:8080/"
        },
        "id": "K3JKku3Uix0I",
        "outputId": "b1a96189-bcb0-4b88-daaa-94374586df7f"
      },
      "outputs": [],
      "source": []
    },
    {
      "cell_type": "markdown",
      "metadata": {
        "id": "9hS1Zz6Jk-gb"
      },
      "source": [
        "---\n",
        "### Lists"
      ]
    },
    {
      "cell_type": "markdown",
      "metadata": {
        "id": "BIvMLtIBlB-B"
      },
      "source": [
        "Lists store lots of different types of variables.\n",
        "\n",
        "It's one method of organising data."
      ]
    },
    {
      "cell_type": "code",
      "execution_count": null,
      "metadata": {
        "id": "50bfo511lBHf"
      },
      "outputs": [],
      "source": [
        "myList = [\"Hello world\", 33, True]"
      ]
    },
    {
      "cell_type": "markdown",
      "metadata": {
        "id": "ewxiBwuJlmf8"
      },
      "source": [
        "*  Create a list below containing your name and age, then print the list."
      ]
    },
    {
      "cell_type": "code",
      "execution_count": null,
      "metadata": {
        "id": "YYRsnwN8lzFu"
      },
      "outputs": [],
      "source": []
    },
    {
      "cell_type": "markdown",
      "metadata": {
        "id": "2Iklj4veix0I"
      },
      "source": [
        "---\n",
        "### For loops"
      ]
    },
    {
      "cell_type": "markdown",
      "metadata": {
        "id": "yEego4ERix0J"
      },
      "source": [
        "'For' loops are a useful way of performing the same operation on every item in a list. Lists can be generated for us in Python, using range(*number goes here*)\n",
        "\n",
        "For example, to execute the 'print()' function 6 times you could write the code below.\n",
        "\n",
        "Notice that computers count from 0."
      ]
    },
    {
      "cell_type": "code",
      "execution_count": null,
      "metadata": {
        "colab": {
          "base_uri": "https://localhost:8080/"
        },
        "id": "BiMWoIPImkZc",
        "outputId": "816a44c3-ff39-4fdd-abb2-19ea21ed53a0"
      },
      "outputs": [],
      "source": [
        "for i in range(6):\n",
        "    print(i)"
      ]
    },
    {
      "cell_type": "markdown",
      "metadata": {
        "id": "EU2gbDs1ix0J"
      },
      "source": [
        "'i' is a temporary variable representing the value currently being processed in the given list.\n",
        "\n",
        "*  Create a 'For' loop below, like the one above, that prints numbers 0 up to 100."
      ]
    },
    {
      "cell_type": "code",
      "execution_count": null,
      "metadata": {
        "id": "Tlle3E9Rix0K"
      },
      "outputs": [],
      "source": []
    },
    {
      "cell_type": "markdown",
      "metadata": {
        "id": "zSw6zzF5ix0K"
      },
      "source": [
        "---\n",
        "\n",
        "### Functions"
      ]
    },
    {
      "cell_type": "markdown",
      "metadata": {
        "id": "AZQtMi2wix0K"
      },
      "source": [
        "Functions are used in programming to be able to separate out, organise, and reuse code. They are defined as *myFunctionName*(*my variables*).\n",
        "\n",
        "We've seen some functions already - range() and print() are examples."
      ]
    },
    {
      "cell_type": "markdown",
      "metadata": {
        "id": "Waygilwsix0K"
      },
      "source": [
        "The function calculateAge below takes one variable: birthYear. This means that whenever the function is run, a variable must be given to it."
      ]
    },
    {
      "cell_type": "markdown",
      "metadata": {
        "id": "1qFuMM_eopkR"
      },
      "source": [
        "**Important to note that code inside a function needs to be indented. Press the 'tab' button on your keyboard when coding to indent.**"
      ]
    },
    {
      "cell_type": "code",
      "execution_count": null,
      "metadata": {
        "id": "9v0qFIm7ix0L"
      },
      "outputs": [],
      "source": [
        "def calculateAge(birthYear):\n",
        "    \n",
        "    age = 2022 - birthYear\n",
        "    \n",
        "    print(\"Your age is \" + str(age))"
      ]
    },
    {
      "cell_type": "markdown",
      "metadata": {
        "id": "jRgT1oudix0L"
      },
      "source": [
        "Run the above cell to see what happens.\n",
        "\n",
        "The answer should be: nothing. We've told Python what the function is, but since it hasn't been called yet the code inside it hasn't been executed.\n",
        "\n",
        "We can now call the function like below:"
      ]
    },
    {
      "cell_type": "code",
      "execution_count": null,
      "metadata": {
        "colab": {
          "base_uri": "https://localhost:8080/"
        },
        "id": "FDW8xuV9ix0L",
        "outputId": "124222d5-50a6-48e1-e0c8-46e458c355b5"
      },
      "outputs": [],
      "source": [
        "year = input(\"Please enter the year that you were born: \")\n",
        "\n",
        "year = int(year)\n",
        "\n",
        "# This is an example of a comment. Comments are part of the code that aren't executed.\n",
        "\n",
        "# calculateAge is the function being called\n",
        "# year is the variable being given.\n",
        "calculateAge(year)"
      ]
    },
    {
      "cell_type": "markdown",
      "metadata": {},
      "source": [
        "Giving a variable into a function is called 'parsing' the variable.\n",
        "When this is done, the variable is called a parameter."
      ]
    },
    {
      "cell_type": "markdown",
      "metadata": {
        "id": "0C4E9EUMpqgK"
      },
      "source": [
        "input() is used here to get information from the user. By default, this will return to us a string. We want an integer to perform calculations on, so the int() wrapper is used."
      ]
    },
    {
      "cell_type": "markdown",
      "metadata": {},
      "source": [
        "* What happens if you don't parse a parameter into the calculateAge() method? Edit the above code to test this"
      ]
    },
    {
      "cell_type": "markdown",
      "metadata": {},
      "source": [
        "* Below, ask the user for a new input then print that input to the console"
      ]
    },
    {
      "cell_type": "code",
      "execution_count": null,
      "metadata": {},
      "outputs": [],
      "source": []
    },
    {
      "cell_type": "markdown",
      "metadata": {
        "id": "IQWYVbH2soXz"
      },
      "source": [
        "* Create a new list\n",
        "* Create a new function that prints lists parsed to it. Use the example function above to help."
      ]
    },
    {
      "cell_type": "code",
      "execution_count": null,
      "metadata": {
        "id": "5ql9Q0o_s375"
      },
      "outputs": [],
      "source": []
    },
    {
      "cell_type": "markdown",
      "metadata": {
        "id": "pw-cfN3Mix0M"
      },
      "source": [
        "---\n",
        "### FizzBuzz"
      ]
    },
    {
      "cell_type": "markdown",
      "metadata": {
        "id": "Q12ViUfIix0N"
      },
      "source": [
        "#### IF"
      ]
    },
    {
      "cell_type": "markdown",
      "metadata": {
        "id": "4XFkGoEgix0N"
      },
      "source": [
        "IF statements are used to decide which code to execute. If a comparison equates to true, one block of code may be run. Otherwise, another block of code may be run."
      ]
    },
    {
      "cell_type": "code",
      "execution_count": null,
      "metadata": {
        "id": "RGi4lBVFix0N"
      },
      "outputs": [],
      "source": [
        "if 3 > 0:\n",
        "    print(\"3 is greater than 0\")\n",
        "else:\n",
        "    print(\"3 is not greater than 0\")"
      ]
    },
    {
      "cell_type": "markdown",
      "metadata": {
        "id": "D0UFSp8yqJyd"
      },
      "source": [
        "**Cheat Sheet:**\n",
        "\n",
        "\n",
        "'>' Greater than\n",
        "\n",
        "'<' Less than\n",
        "\n",
        "'==' Equal to\n",
        "\n",
        "'!=' Not equal to\n",
        "\n"
      ]
    },
    {
      "cell_type": "markdown",
      "metadata": {
        "id": "9jiVJCetpT5H"
      },
      "source": [
        "*  Take an input from the user and store it in a variable.\n",
        "*  Write an IF statement that outputs the result of 9 * 9 if the variable is equal to \"I love Python\".\n",
        "*  If the strings are not equal, output the result of 8 * 8."
      ]
    },
    {
      "cell_type": "code",
      "execution_count": null,
      "metadata": {
        "id": "l5e0nh95pTcL"
      },
      "outputs": [],
      "source": []
    },
    {
      "cell_type": "markdown",
      "metadata": {
        "id": "BSzzrW19ix0N"
      },
      "source": [
        "---\n",
        "#### Modulo"
      ]
    },
    {
      "cell_type": "markdown",
      "metadata": {
        "id": "du98odr4ix0N"
      },
      "source": [
        "The modulo operator can tell us if a number can be completely divided by another.\n",
        "\n",
        "It does so by telling us the remainder of the division. \n",
        "\n",
        "\n",
        "5 / 2 = 2 (remainder 1), so 5 % 2 = 1\n",
        "\n",
        "10 % 10 = 0\n",
        "\n",
        "36 % 15 = 6\n",
        "\n",
        "\n",
        "For example, it can be used to find all even numbers below 10:"
      ]
    },
    {
      "cell_type": "code",
      "execution_count": null,
      "metadata": {
        "colab": {
          "base_uri": "https://localhost:8080/"
        },
        "id": "zxyEF4DPix0O",
        "outputId": "871dd45e-33d3-4d03-abf2-ea47353b4a4c"
      },
      "outputs": [],
      "source": [
        "for i in range(10):\n",
        "    if i % 2 == 0:\n",
        "        print(i)"
      ]
    },
    {
      "cell_type": "markdown",
      "metadata": {},
      "source": [
        "Make sure you understand how this code above works before moving on to the task."
      ]
    },
    {
      "cell_type": "markdown",
      "metadata": {
        "id": "yBHYTui_ix0O"
      },
      "source": [
        "* Write a new function below:\n",
        "* In it, take an input from the user using input()\n",
        "* convert this input to an integer by wrapping it in int()\n",
        "* loop through this integer using the range() function\n",
        "* output 'Fizz' or 'Buzz' to the console in each loop, depending on if the loop number is divisible by 3."
      ]
    },
    {
      "cell_type": "markdown",
      "metadata": {
        "id": "6vjWyICzix0O"
      },
      "source": [
        "EG\n",
        "\n",
        "Fizz\n",
        "\n",
        "Buzz\n",
        "\n",
        "Buzz\n",
        "\n",
        "Fizz"
      ]
    },
    {
      "cell_type": "code",
      "execution_count": null,
      "metadata": {
        "id": "LUKaIdMiix0P"
      },
      "outputs": [],
      "source": []
    },
    {
      "cell_type": "markdown",
      "metadata": {
        "id": "nQ5I0le8ix0P"
      },
      "source": [
        "---\n",
        "#### Random"
      ]
    },
    {
      "cell_type": "markdown",
      "metadata": {
        "id": "rkWhSHS3ix0Q"
      },
      "source": [
        "Python has a wide range of libraries that can be imported to help accomplish different tasks. One such library is 'random', which allows various random numbers to be generated.\n",
        "\n",
        "random.randint() will give us a random integer between two given bounds each time it is called."
      ]
    },
    {
      "cell_type": "code",
      "execution_count": null,
      "metadata": {
        "colab": {
          "base_uri": "https://localhost:8080/"
        },
        "id": "-A_EDVSDix0P",
        "outputId": "b1133aa1-735d-4898-e7b4-f5f3a65be741"
      },
      "outputs": [],
      "source": [
        "# We need to import the random module to use the randint() function.\n",
        "import random\n",
        "\n",
        "# This\n",
        "myNum = random.randint(0,1)\n",
        "print(myNum)\n",
        "\n",
        "# Is identical to writing this\n",
        "print(random.randint(0,1))"
      ]
    },
    {
      "cell_type": "markdown",
      "metadata": {
        "id": "PWVjrescix0Q"
      },
      "source": [
        "* Write a function that contains a loop that runs the contained code 5 times.\n",
        "* In each loop, generate a random number between 0 and 1.\n",
        "* Print 'Fizz' to the console if the generated number is 1, and 'Buzz' to the console if the number is 0."
      ]
    },
    {
      "cell_type": "markdown",
      "metadata": {
        "id": "IlViO06mix0Q"
      },
      "source": [
        "EG\n",
        "\n",
        "Buzz\n",
        "\n",
        "Fizz\n",
        "\n",
        "Fizz\n",
        "\n",
        "Fizz\n",
        "\n",
        "Buzz"
      ]
    },
    {
      "cell_type": "code",
      "execution_count": null,
      "metadata": {
        "id": "55S5EYNzix0Q"
      },
      "outputs": [],
      "source": []
    },
    {
      "cell_type": "markdown",
      "metadata": {
        "id": "bQ83dYaTix0R"
      },
      "source": [
        "---\n",
        "\n",
        "#### While"
      ]
    },
    {
      "cell_type": "markdown",
      "metadata": {
        "id": "-6oxonDlix0R"
      },
      "source": [
        "A 'While' loop is another type of loop in programming which will run until a certain condition is met.\n",
        "\n",
        "The IF operator runs code *once* if a condition is met, but While will *loop* over that code while the condition is met.\n",
        "\n",
        "The += operator will increment a variable by a given amount."
      ]
    },
    {
      "cell_type": "code",
      "execution_count": null,
      "metadata": {
        "id": "ydY29kOLix0T"
      },
      "outputs": [],
      "source": [
        "x = 0\n",
        "\n",
        "while x < 4:\n",
        "    print(x)\n",
        "    x += 1"
      ]
    },
    {
      "cell_type": "markdown",
      "metadata": {
        "id": "JG2nFrN_wRv9"
      },
      "source": [
        "*  Create a 'While' loop that outputs the string \"Hello world\" to the console 5 times. Use the example above to help."
      ]
    },
    {
      "cell_type": "code",
      "execution_count": null,
      "metadata": {
        "id": "ig8NeRi1wdpn"
      },
      "outputs": [],
      "source": []
    },
    {
      "cell_type": "markdown",
      "metadata": {
        "id": "AFdGofSZupFF"
      },
      "source": [
        "*  Create a variable called 'counter' and set its value to 0\n",
        "\n",
        "*  Write a 'While' loop that loops while this counter is < 4.\n",
        "\n",
        "*  Inside the loop, generate a random integer between 1000 and 3000.\n",
        "\n",
        "*  If the number is divisible by 17, output that number and increment the counter. Otherwise, output \"Not divisible\".\n"
      ]
    },
    {
      "cell_type": "code",
      "execution_count": null,
      "metadata": {
        "id": "bYgX5l6BupgG"
      },
      "outputs": [],
      "source": []
    },
    {
      "cell_type": "markdown",
      "metadata": {
        "id": "wkjz8c73ix0U"
      },
      "source": [
        "---\n",
        "#### Time"
      ]
    },
    {
      "cell_type": "markdown",
      "metadata": {
        "id": "f4R2RHQNix0U"
      },
      "source": [
        "Python has a library called 'time' that can be used for many different operations.\n",
        "\n",
        "A fundamental tool for a programmer is the ability to look up ways of using libraries.\n",
        "\n",
        "* Search online for the 'time' library and find how to use the function sleep().\n",
        "* Write a function that prints an incrementing number to the console every second for 5 seconds.\n",
        "\n",
        "EG: Google \"python time library sleep\""
      ]
    },
    {
      "cell_type": "markdown",
      "metadata": {
        "id": "tCrMLUqZix0V"
      },
      "source": [
        "EG\n",
        "\n",
        "1\n",
        "\n",
        "2\n",
        "\n",
        "3\n",
        "\n",
        "4\n",
        "\n",
        "5"
      ]
    },
    {
      "cell_type": "code",
      "execution_count": null,
      "metadata": {
        "id": "bPJ7x4Ncix0V"
      },
      "outputs": [],
      "source": []
    },
    {
      "cell_type": "markdown",
      "metadata": {
        "id": "FJzNqu_Six0X"
      },
      "source": [
        "---\n",
        "\n",
        "#### Lists"
      ]
    },
    {
      "cell_type": "markdown",
      "metadata": {
        "id": "l7YQReY_ix0W"
      },
      "source": [
        "Values can be added to a list using the append() function as seen below."
      ]
    },
    {
      "cell_type": "code",
      "execution_count": null,
      "metadata": {
        "colab": {
          "base_uri": "https://localhost:8080/"
        },
        "id": "Pc95mZ_Uix0W",
        "outputId": "aab4a57a-ca6a-47bd-c0a9-a6fecad56dce"
      },
      "outputs": [],
      "source": [
        "myList = [1,2,3]\n",
        "\n",
        "myList.append(4)\n",
        "\n",
        "print(myList)"
      ]
    },
    {
      "cell_type": "markdown",
      "metadata": {
        "id": "83_g5D-Rix0W"
      },
      "source": [
        "*  Create a function that asks the user for an input 5 times in a loop.\n",
        "*  In each loop, and append that input to a list. \n",
        "*  Once completed, display the list."
      ]
    },
    {
      "cell_type": "code",
      "execution_count": null,
      "metadata": {
        "id": "cEq15Y6Qix0W"
      },
      "outputs": [],
      "source": []
    },
    {
      "cell_type": "markdown",
      "metadata": {
        "id": "OaxeCyguix0W"
      },
      "source": [
        "---\n",
        "\n",
        "### Dictionaries"
      ]
    },
    {
      "cell_type": "markdown",
      "metadata": {
        "id": "MjcxM1Yaix0W"
      },
      "source": [
        "Dictionaries can be thought of as like lists, however they store pairs of keys and values instead of just values.\n",
        "\n",
        "#### Dictionaries consist of key/value pairs. Use the key to access the value.\n",
        "\n",
        "EG: myDict = {key1 : value1, key2 : value2}"
      ]
    },
    {
      "cell_type": "code",
      "execution_count": null,
      "metadata": {},
      "outputs": [],
      "source": [
        "testDict = {\"Ben\":21, \"Joe\":22, \"Sally\":23}\n",
        "\n",
        "print(testDict)\n",
        "\n",
        "for i in testDict:\n",
        "    print(i)"
      ]
    },
    {
      "cell_type": "markdown",
      "metadata": {},
      "source": [
        "We can display dictionaries by printing them, and we can iterate through their values like we do in lists."
      ]
    },
    {
      "cell_type": "markdown",
      "metadata": {},
      "source": [
        "* Using testDict defined above, loop through the values and output 'True' if 'Sally' is a value."
      ]
    },
    {
      "cell_type": "code",
      "execution_count": null,
      "metadata": {},
      "outputs": [],
      "source": []
    },
    {
      "cell_type": "markdown",
      "metadata": {},
      "source": [
        "We can access the values of a dictionary using the keys.\n",
        "\n",
        "value = testDict[key]"
      ]
    },
    {
      "cell_type": "code",
      "execution_count": null,
      "metadata": {},
      "outputs": [],
      "source": [
        "print(testDict[\"Ben\"])"
      ]
    },
    {
      "cell_type": "markdown",
      "metadata": {},
      "source": [
        "* Loop through testDict and access each name's age.\n",
        "* Output the highest age found."
      ]
    },
    {
      "cell_type": "code",
      "execution_count": null,
      "metadata": {},
      "outputs": [],
      "source": []
    },
    {
      "cell_type": "markdown",
      "metadata": {
        "id": "M6Tfps98zBuP"
      },
      "source": [
        "*  What does each section of code below do?\n",
        "*  Can you infer what the .title() function does? If not, use Google to search for the answer.\n",
        "*  Can you tell how items are added to a dictionary?\n",
        "\n",
        "You can edit the code and add print() statements to see how the variables change through execution"
      ]
    },
    {
      "cell_type": "code",
      "execution_count": null,
      "metadata": {},
      "outputs": [],
      "source": [
        "myDict = {\"Ben\" : \"Frost\", \"Nick\" : \"Zavitsanos\", \"Jacob\": \"Kristensen\"}"
      ]
    },
    {
      "cell_type": "code",
      "execution_count": null,
      "metadata": {
        "id": "wObHV9jYix0X"
      },
      "outputs": [],
      "source": [
        "firstName = input(\"What is your first name? \").title()\n",
        "\n",
        "if firstName in myDict:\n",
        "    \n",
        "    print(\"Hello \" + firstName + \" \" + myDict[firstName])\n",
        "    \n",
        "else:\n",
        "    \n",
        "    print(\"We don't have your record.\")\n",
        "    lastName = input(\"Please enter your last name: \").title()\n",
        "    \n",
        "    myDict[firstName] = lastName\n",
        "    \n",
        "    print(\"Hello \" + firstName + \" \" + myDict.get(firstName))"
      ]
    },
    {
      "cell_type": "markdown",
      "metadata": {
        "id": "iw6Cb8kQyYWK"
      },
      "source": [
        "*  Create a dictionary containing two items on the desk in front of you and their rough weight.\n",
        "*  Use the item name as the key, and the weight as the value.\n",
        "*  Find the item with the maximum weight and print it."
      ]
    },
    {
      "cell_type": "code",
      "execution_count": null,
      "metadata": {},
      "outputs": [],
      "source": []
    },
    {
      "cell_type": "markdown",
      "metadata": {
        "id": "IYNPlphpix0X"
      },
      "source": [
        "---\n",
        "\n",
        "# Final Task - Fruit Selling Application\n",
        "\n",
        "This task asks you to write code based on *what* should happen rather than *how*.\n",
        "\n",
        "There are many ways of writting code to complete the same task so there's more than one right answer."
      ]
    },
    {
      "cell_type": "markdown",
      "metadata": {},
      "source": [
        "*  Write a function called purchaseFruit() that contains a dictionary of fruit and their corresponding prices. \n",
        "*  At the start of execution, the function should print the selection of fruit and their prices.\n",
        "*  When the function is run, ask the user to input the names of 3 fruit they would like to purchase.\n",
        "*  Output the total cost of their selection."
      ]
    },
    {
      "cell_type": "markdown",
      "metadata": {},
      "source": [
        "EG\n",
        "\n",
        "Input:\n",
        "Apple\n",
        "Banana\n",
        "Pear\n",
        "\n",
        "Output:\n",
        "4"
      ]
    },
    {
      "cell_type": "code",
      "execution_count": null,
      "metadata": {},
      "outputs": [],
      "source": []
    }
  ],
  "metadata": {
    "colab": {
      "name": "Session_1.ipynb",
      "provenance": []
    },
    "interpreter": {
      "hash": "31f2aee4e71d21fbe5cf8b01ff0e069b9275f58929596ceb00d14d90e3e16cd6"
    },
    "kernelspec": {
      "display_name": "Python 3.8.9 64-bit",
      "name": "python3"
    },
    "language_info": {
      "codemirror_mode": {
        "name": "ipython",
        "version": 3
      },
      "file_extension": ".py",
      "mimetype": "text/x-python",
      "name": "python",
      "nbconvert_exporter": "python",
      "pygments_lexer": "ipython3",
      "version": "3.8.9"
    }
  },
  "nbformat": 4,
  "nbformat_minor": 0
}
